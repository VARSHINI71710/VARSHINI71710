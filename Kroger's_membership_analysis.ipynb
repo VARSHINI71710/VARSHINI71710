{
  "nbformat": 4,
  "nbformat_minor": 0,
  "metadata": {
    "colab": {
      "provenance": []
    },
    "kernelspec": {
      "name": "python3",
      "display_name": "Python 3"
    },
    "language_info": {
      "name": "python"
    }
  },
  "cells": [
    {
      "cell_type": "code",
      "execution_count": null,
      "metadata": {
        "id": "XrsQlYUQObdg"
      },
      "outputs": [],
      "source": [
        "import pandas as pd\n",
        "import numpy as np\n",
        "import matplotlib.pyplot as plt\n",
        "import seaborn as sns"
      ]
    },
    {
      "cell_type": "markdown",
      "source": [
        "Part 1 – Basic Data Understanding (Pandas)"
      ],
      "metadata": {
        "id": "OnXlmn4jXdX4"
      }
    },
    {
      "cell_type": "code",
      "source": [
        "df = pd.read_csv(\"/content/kroger_members.csv\")\n",
        "\n",
        "print(\"Head:\\n\", df.head(10))\n",
        "print(\"\\nShape:\", df.shape)\n",
        "print(\"\\nColumn Names:\",df.columns)\n",
        "print(\"\\nData Types:\\n\", df.dtypes)\n",
        "print(\"\\nNull values:\\n\", df.isnull().sum())\n",
        "print(\"\\nDuplicated rows:\", df.duplicated().sum())\n",
        "print(\"\\nHas member card counts:\\n\", df[\"has_member_card\"].value_counts())\n",
        "print(\"\\nNull values again:\\n\", df.isnull().sum())\n",
        "\n",
        "\n"
      ],
      "metadata": {
        "colab": {
          "base_uri": "https://localhost:8080/"
        },
        "id": "JzgF7e9KP54k",
        "outputId": "6d20fe9b-23d0-4900-fe9f-65e7e904e587"
      },
      "execution_count": null,
      "outputs": [
        {
          "output_type": "stream",
          "name": "stdout",
          "text": [
            "Head:\n",
            "    kroger_id has_member_card\n",
            "0          1               Y\n",
            "1          2               Y\n",
            "2          3             NaN\n",
            "3          4               Y\n",
            "4          5             NaN\n",
            "5          6               Y\n",
            "6          7             NaN\n",
            "7          8               Y\n",
            "8          9               Y\n",
            "9         10               Y\n",
            "\n",
            "Shape: (100, 2)\n",
            "\n",
            "Column Names: Index(['kroger_id', 'has_member_card'], dtype='object')\n",
            "\n",
            "Data Types:\n",
            " kroger_id           int64\n",
            "has_member_card    object\n",
            "dtype: object\n",
            "\n",
            "Null values:\n",
            " kroger_id           0\n",
            "has_member_card    37\n",
            "dtype: int64\n",
            "\n",
            "Duplicated rows: 0\n",
            "\n",
            "Has member card counts:\n",
            " has_member_card\n",
            "Y    63\n",
            "Name: count, dtype: int64\n",
            "\n",
            "Null values again:\n",
            " kroger_id           0\n",
            "has_member_card    37\n",
            "dtype: int64\n"
          ]
        }
      ]
    },
    {
      "cell_type": "markdown",
      "source": [
        "Part 2 – Data Cleaning"
      ],
      "metadata": {
        "id": "Th5A_ia_XsCH"
      }
    },
    {
      "cell_type": "code",
      "source": [
        "df[\"has_member_card\"] = df[\"has_member_card\"].replace(0, \"N\")  #Standardize has_member_card values so that:'Y' stays as 'Y',Missing values become 'N'\n",
        "\n",
        "df[\"kroger_id\"] = df[\"kroger_id\"].astype(int)        #Ensure all kroger_id values are integers and unique.\n",
        "df = df.drop_duplicates(subset=\"kroger_id\")\n",
        "\n",
        "invalid_IDs = df[df[\"kroger_id\"] < 0]\n",
        "\n",
        "if not invalid_IDs.empty:\n",
        "    print(\"Invalid kroger id found:\")                     #Check for any negative or invalid IDs.\n",
        "    print(invalid_IDs)\n",
        "else:\n",
        "    print(\"No negative or invalid kroger id found.\")\n",
        "\n",
        "df = df.reset_index(drop=True)             #Reset DataFrame index after cleaning.\n"
      ],
      "metadata": {
        "colab": {
          "base_uri": "https://localhost:8080/"
        },
        "id": "qLVhFhf5U6AT",
        "outputId": "b655ed9e-5630-4b58-a20a-95d6dd2f3531"
      },
      "execution_count": null,
      "outputs": [
        {
          "output_type": "stream",
          "name": "stdout",
          "text": [
            "No negative or invalid kroger id found.\n"
          ]
        }
      ]
    },
    {
      "cell_type": "markdown",
      "source": [
        "Part 3 – Exploratory Data Analysis (EDA)"
      ],
      "metadata": {
        "id": "bYeZKKmddUqN"
      }
    },
    {
      "cell_type": "code",
      "source": [
        "# Assuming df is already loaded\n",
        "\n",
        "# 1. Count total number of customers\n",
        "total_customers=df[\"kroger_id\"].nunique()\n",
        "print(\"Total number of customers:\", total_customers)\n",
        "\n",
        "# 2. Count total members vs non-members\n",
        "member_counts=df[\"has_member_card\"].value_counts()\n",
        "print(\"\\nMembers vs Non-members:\")\n",
        "print(member_counts)\n",
        "\n",
        "# 3. Find percentage of customers who have a membership card\n",
        "member_percentage=(member_counts / total_customers) * 100\n",
        "print(\"\\nPercentage of members and non-members:\")\n",
        "print(member_percentage.apply(lambda x: f\"{x:.1f}%\"))\n",
        "\n",
        "# 4. Plot a pie chart of members vs non-members\n",
        "plt.figure(figsize=(6,6))\n",
        "plt.pie(member_counts, labels=member_counts.index, autopct=\"%1.1f%%\", startangle=90, colors=[\"green\", \"blue\"])\n",
        "plt.title(\"Members vs Non-members\")\n",
        "plt.show()\n",
        "\n"
      ],
      "metadata": {
        "id": "Cn_yRXozZ79M",
        "colab": {
          "base_uri": "https://localhost:8080/",
          "height": 712
        },
        "outputId": "d71dd38a-bfca-4b49-d5be-311a4a673084"
      },
      "execution_count": null,
      "outputs": [
        {
          "output_type": "stream",
          "name": "stdout",
          "text": [
            "Total number of customers: 100\n",
            "\n",
            "Members vs Non-members:\n",
            "has_member_card\n",
            "Y    63\n",
            "Name: count, dtype: int64\n",
            "\n",
            "Percentage of members and non-members:\n",
            "has_member_card\n",
            "Y    63.0%\n",
            "Name: count, dtype: object\n"
          ]
        },
        {
          "output_type": "display_data",
          "data": {
            "text/plain": [
              "<Figure size 600x600 with 1 Axes>"
            ],
            "image/png": "[encoded data removed]"
          },
          "metadata": {}
        }
      ]
    },
    {
      "cell_type": "code",
      "source": [
        "plt.bar(membercount.index, membercount.values ,color=\"blue\", width=0.5)\n",
        "plt.title(\"Members vs Non-Members\")\n",
        "plt.grid\n",
        "plt.show()\n"
      ],
      "metadata": {
        "colab": {
          "base_uri": "https://localhost:8080/",
          "height": 452
        },
        "id": "hpncUm-bkNab",
        "outputId": "c08c4fb3-8125-4cdf-becb-278032836f98"
      },
      "execution_count": null,
      "outputs": [
        {
          "output_type": "display_data",
          "data": {
            "text/plain": [
              "<Figure size 640x480 with 1 Axes>"
            ],
            "image/png": "[encoded data removed]"
          },
          "metadata": {}
        }
      ]
    },
    {
      "cell_type": "markdown",
      "source": [
        "Part 4 – Statistics"
      ],
      "metadata": {
        "id": "zAkBII8Oledw"
      }
    },
    {
      "cell_type": "code",
      "source": [
        "df[\"has_member_card\"]=df[\"has_member_card\"].replace(\"N\",0)\n",
        "df[\"has_member_card\"]=df[\"has_member_card\"].replace(\"Y\",1)\n",
        "\n",
        "print(\"Mean=\",np.mean(df[\"has_member_card\"]))\n",
        "print(\"Median=\",np.median(df['has_member_card']))\n",
        "print(\"mode=\",df['has_member_card'].mode()[0])\n",
        "\n",
        "print(\"prob of yes=\",df[\"has_member_card\"].mean())\n",
        "print(\"prob of no=\",1-df[\"has_member_card\"].mean())"
      ],
      "metadata": {
        "colab": {
          "base_uri": "https://localhost:8080/"
        },
        "id": "hgAtDkjGkQhr",
        "outputId": "704b31f9-148b-447c-ff86-628c84ce291c"
      },
      "execution_count": null,
      "outputs": [
        {
          "output_type": "stream",
          "name": "stdout",
          "text": [
            "Mean= 1.0\n",
            "Median= nan\n",
            "mode= 1.0\n",
            "prob of yes= 1.0\n",
            "prob of no= 0.0\n"
          ]
        },
        {
          "output_type": "stream",
          "name": "stderr",
          "text": [
            "/tmp/ipython-input-2159897192.py:2: FutureWarning: Downcasting behavior in `replace` is deprecated and will be removed in a future version. To retain the old behavior, explicitly call `result.infer_objects(copy=False)`. To opt-in to the future behavior, set `pd.set_option('future.no_silent_downcasting', True)`\n",
            "  df[\"has_member_card\"]=df[\"has_member_card\"].replace(\"Y\",1)\n"
          ]
        }
      ]
    },
    {
      "cell_type": "markdown",
      "source": [
        "Part 5 – Linear Algebra & NumPy\n"
      ],
      "metadata": {
        "id": "R0Veh0DcpO_w"
      }
    },
    {
      "cell_type": "code",
      "source": [
        "bin_array=df[\"has_member_card\"].values\n",
        "print(bin_array)\n",
        "\n",
        "n=bin_array.size\n",
        "spendscore=np.random.seed(0)\n",
        "spendscore=np.random.randint(1,101,n)\n",
        "print(spendscore)\n",
        "\n",
        "add=np.add(bin_array,spendscore)\n",
        "print(add)-\n",
        "\n",
        "dot=np.dot(bin_array,spendscore)\n",
        "print(dot)\n",
        "\n",
        "bin_array=np.array(bin_array)\n",
        "spendscore=np.array(spendscore)\n",
        "new=np.vstack((bin_array,spendscore))\n",
        "print(new)\n",
        "weights=np.array([0.5,0.5])\n",
        "\n",
        "matmul=weights @ new # as per the mul rule to mul weight comes first\n",
        "print(matmul)"
      ],
      "metadata": {
        "colab": {
          "base_uri": "https://localhost:8080/"
        },
        "id": "1A-WFdN3lqcs",
        "outputId": "fb932132-499b-4658-94ab-6c810413fc09"
      },
      "execution_count": null,
      "outputs": [
        {
          "output_type": "stream",
          "name": "stdout",
          "text": [
            "[ 1.  1. nan  1. nan  1. nan  1.  1.  1. nan nan  1. nan nan  1. nan  1.\n",
            "  1. nan  1. nan  1.  1. nan  1. nan  1. nan  1. nan  1.  1.  1.  1.  1.\n",
            " nan nan nan  1.  1.  1. nan  1. nan  1. nan  1.  1.  1.  1. nan  1.  1.\n",
            "  1.  1. nan nan  1.  1.  1.  1.  1.  1.  1.  1.  1.  1.  1. nan nan nan\n",
            "  1.  1. nan nan nan  1.  1.  1. nan  1.  1.  1. nan nan  1.  1.  1. nan\n",
            " nan  1.  1.  1.  1.  1. nan  1. nan nan]\n",
            "[ 45  48  65  68  68  10  84  22  37  88  71  89  89  13  59  66  40  88\n",
            "  47  89  82  38  26  78  73  10  21  81  70  80  48  65  83 100  89  50\n",
            "  30  20  20  15  40  33  66  10  58  33  32  75  24  36  76  56  29  35\n",
            "   1   1  37  54   6  39  18  80   5  43  59  32   2  66  42  58  36  12\n",
            "  47  83  92   1  15 100  54  13  43  85  76  69   7  69  48   4  77  53\n",
            "  79  16  21 100  59  24  80  14  86  49]\n",
            "[ 46.  49.  nan  69.  nan  11.  nan  23.  38.  89.  nan  nan  90.  nan\n",
            "  nan  67.  nan  89.  48.  nan  83.  nan  27.  79.  nan  11.  nan  82.\n",
            "  nan  81.  nan  66.  84. 101.  90.  51.  nan  nan  nan  16.  41.  34.\n",
            "  nan  11.  nan  34.  nan  76.  25.  37.  77.  nan  30.  36.   2.   2.\n",
            "  nan  nan   7.  40.  19.  81.   6.  44.  60.  33.   3.  67.  43.  nan\n",
            "  nan  nan  48.  84.  nan  nan  nan 101.  55.  14.  nan  86.  77.  70.\n",
            "  nan  nan  49.   5.  78.  nan  nan  17.  22. 101.  60.  25.  nan  15.\n",
            "  nan  nan]\n",
            "nan\n",
            "[[  1.   1.  nan   1.  nan   1.  nan   1.   1.   1.  nan  nan   1.  nan\n",
            "   nan   1.  nan   1.   1.  nan   1.  nan   1.   1.  nan   1.  nan   1.\n",
            "   nan   1.  nan   1.   1.   1.   1.   1.  nan  nan  nan   1.   1.   1.\n",
            "   nan   1.  nan   1.  nan   1.   1.   1.   1.  nan   1.   1.   1.   1.\n",
            "   nan  nan   1.   1.   1.   1.   1.   1.   1.   1.   1.   1.   1.  nan\n",
            "   nan  nan   1.   1.  nan  nan  nan   1.   1.   1.  nan   1.   1.   1.\n",
            "   nan  nan   1.   1.   1.  nan  nan   1.   1.   1.   1.   1.  nan   1.\n",
            "   nan  nan]\n",
            " [ 45.  48.  65.  68.  68.  10.  84.  22.  37.  88.  71.  89.  89.  13.\n",
            "   59.  66.  40.  88.  47.  89.  82.  38.  26.  78.  73.  10.  21.  81.\n",
            "   70.  80.  48.  65.  83. 100.  89.  50.  30.  20.  20.  15.  40.  33.\n",
            "   66.  10.  58.  33.  32.  75.  24.  36.  76.  56.  29.  35.   1.   1.\n",
            "   37.  54.   6.  39.  18.  80.   5.  43.  59.  32.   2.  66.  42.  58.\n",
            "   36.  12.  47.  83.  92.   1.  15. 100.  54.  13.  43.  85.  76.  69.\n",
            "    7.  69.  48.   4.  77.  53.  79.  16.  21. 100.  59.  24.  80.  14.\n",
            "   86.  49.]]\n",
            "[23.  24.5  nan 34.5  nan  5.5  nan 11.5 19.  44.5  nan  nan 45.   nan\n",
            "  nan 33.5  nan 44.5 24.   nan 41.5  nan 13.5 39.5  nan  5.5  nan 41.\n",
            "  nan 40.5  nan 33.  42.  50.5 45.  25.5  nan  nan  nan  8.  20.5 17.\n",
            "  nan  5.5  nan 17.   nan 38.  12.5 18.5 38.5  nan 15.  18.   1.   1.\n",
            "  nan  nan  3.5 20.   9.5 40.5  3.  22.  30.  16.5  1.5 33.5 21.5  nan\n",
            "  nan  nan 24.  42.   nan  nan  nan 50.5 27.5  7.   nan 43.  38.5 35.\n",
            "  nan  nan 24.5  2.5 39.   nan  nan  8.5 11.  50.5 30.  12.5  nan  7.5\n",
            "  nan  nan]\n"
          ]
        }
      ]
    },
    {
      "cell_type": "markdown",
      "source": [
        "Part 6 – Feature Engineering\n"
      ],
      "metadata": {
        "id": "xn5-c7Rat1nA"
      }
    },
    {
      "cell_type": "code",
      "source": [
        "df[\"has_member_card\"]=df[\"has_member_card\"].replace(0,\"N\")\n",
        "df[\"has_member_card\"]=df[\"has_member_card\"].replace(1,\"Y\")\n",
        "df.head()\n",
        "df[\"Is_Member\"]=df[\"has_member_card\"].apply(lambda x: 1 if x==\"Y\" else 0)\n",
        "df[\"Monthly_Spend\"]=np.random.seed(0)\n",
        "df[\"Monthly_Spend\"]=np.random.randint(50,500,100)\n",
        "\n",
        "df[\"Discount_Eligible\"]=(df[\"Is_Member\"].apply(lambda x: 1 if x==1 else 0) & df[\"Monthly_Spend\"].apply(lambda x: 1 if x>200 else 0) )\n",
        "print(df.head())\n",
        "\n",
        "q1=df[\"Monthly_Spend\"].quantile(0.25)\n",
        "q2=df[\"Monthly_Spend\"].quantile(0.50)\n",
        "q3=df[\"Monthly_Spend\"].quantile(0.75)\n",
        "q4=df[\"Monthly_Spend\"].quantile(1.0)\n",
        "print(\"Q1=\",q1)\n",
        "print(\"Q2=\",q2)\n",
        "print(\"Q3=\",q3)\n",
        "print(\"Q4=\",q4)"
      ],
      "metadata": {
        "colab": {
          "base_uri": "https://localhost:8080/"
        },
        "id": "lK3G7iU2q_ZB",
        "outputId": "7409f9a6-3b44-4d7c-8907-cc50bee17660"
      },
      "execution_count": null,
      "outputs": [
        {
          "output_type": "stream",
          "name": "stdout",
          "text": [
            "   kroger_id has_member_card  Is_Member  Monthly_Spend  Discount_Eligible\n",
            "0          1               Y          1            222                  1\n",
            "1          2               Y          1             97                  0\n",
            "2          3             NaN          0            167                  0\n",
            "3          4               Y          1            242                  1\n",
            "4          5             NaN          0            373                  0\n",
            "Q1= 153.5\n",
            "Q2= 252.5\n",
            "Q3= 383.5\n",
            "Q4= 499.0\n"
          ]
        }
      ]
    },
    {
      "cell_type": "markdown",
      "source": [
        "Part 7 – SQL Simulation in Pandas"
      ],
      "metadata": {
        "id": "EXonnjWmxsYw"
      }
    },
    {
      "cell_type": "code",
      "source": [
        "selecteddf=df[(df[\"Is_Member\"]==1) & (df[\"Monthly_Spend\"]>300)]\n",
        "print(selecteddf)\n"
      ],
      "metadata": {
        "colab": {
          "base_uri": "https://localhost:8080/"
        },
        "id": "sVRePOQ2vKsw",
        "outputId": "93af3c53-560c-4c6f-9cf9-a84a23f3b84f"
      },
      "execution_count": null,
      "outputs": [
        {
          "output_type": "stream",
          "name": "stdout",
          "text": [
            "    kroger_id has_member_card  Is_Member  Monthly_Spend  Discount_Eligible\n",
            "5           6               Y          1            301                  1\n",
            "7           8               Y          1            409                  1\n",
            "12         13               Y          1            342                  1\n",
            "17         18               Y          1            364                  1\n",
            "23         24               Y          1            387                  1\n",
            "29         30               Y          1            454                  1\n",
            "33         34               Y          1            385                  1\n",
            "34         35               Y          1            481                  1\n",
            "35         36               Y          1            498                  1\n",
            "40         41               Y          1            335                  1\n",
            "43         44               Y          1            448                  1\n",
            "45         46               Y          1            338                  1\n",
            "47         48               Y          1            315                  1\n",
            "59         60               Y          1            340                  1\n",
            "62         63               Y          1            470                  1\n",
            "64         65               Y          1            439                  1\n",
            "67         68               Y          1            323                  1\n",
            "68         69               Y          1            385                  1\n",
            "72         73               Y          1            492                  1\n",
            "77         78               Y          1            475                  1\n",
            "79         80               Y          1            341                  1\n",
            "82         83               Y          1            317                  1\n",
            "83         84               Y          1            480                  1\n",
            "86         87               Y          1            434                  1\n",
            "87         88               Y          1            448                  1\n",
            "92         93               Y          1            476                  1\n",
            "95         96               Y          1            374                  1\n"
          ]
        }
      ]
    },
    {
      "cell_type": "code",
      "source": [
        "top_10_spenders=df[df[\"Is_Member\"] == 1].sort_values(by=\"Monthly_Spend\", ascending=False).head(10)\n",
        "print(top_10_spenders)\n"
      ],
      "metadata": {
        "colab": {
          "base_uri": "https://localhost:8080/"
        },
        "id": "nPXMPffA3-ih",
        "outputId": "048943f2-910f-4081-906d-58d8b7060331"
      },
      "execution_count": null,
      "outputs": [
        {
          "output_type": "stream",
          "name": "stdout",
          "text": [
            "    kroger_id has_member_card  Is_Member  Monthly_Spend  Discount_Eligible\n",
            "35         36               Y          1            498                  1\n",
            "72         73               Y          1            492                  1\n",
            "34         35               Y          1            481                  1\n",
            "83         84               Y          1            480                  1\n",
            "92         93               Y          1            476                  1\n",
            "77         78               Y          1            475                  1\n",
            "62         63               Y          1            470                  1\n",
            "29         30               Y          1            454                  1\n",
            "43         44               Y          1            448                  1\n",
            "87         88               Y          1            448                  1\n"
          ]
        }
      ]
    },
    {
      "cell_type": "code",
      "source": [
        "sorted_df=df.sort_values(by=[\"Monthly_Spend\", \"kroger_id\"], ascending=[False, True],inplace =True)\n",
        "print(sorted_df)"
      ],
      "metadata": {
        "colab": {
          "base_uri": "https://localhost:8080/"
        },
        "id": "qsG-_O9w0yFs",
        "outputId": "b51d422b-5628-4a69-ad19-b3b4b1b09622"
      },
      "execution_count": null,
      "outputs": [
        {
          "output_type": "stream",
          "name": "stdout",
          "text": [
            "None\n"
          ]
        }
      ]
    },
    {
      "cell_type": "code",
      "source": [
        "counts = df[\"Discount_Eligible\"].value_counts()\n",
        "print(counts)\n"
      ],
      "metadata": {
        "colab": {
          "base_uri": "https://localhost:8080/"
        },
        "id": "ZdoZcdMC1etP",
        "outputId": "65f241b3-5e68-4e87-cd6b-e77820cf83f1"
      },
      "execution_count": null,
      "outputs": [
        {
          "output_type": "stream",
          "name": "stdout",
          "text": [
            "Discount_Eligible\n",
            "0    59\n",
            "1    41\n",
            "Name: count, dtype: int64\n"
          ]
        }
      ]
    },
    {
      "cell_type": "markdown",
      "source": [
        "Part 8 – Insights"
      ],
      "metadata": {
        "id": "jWainaZ94NGM"
      }
    },
    {
      "cell_type": "code",
      "source": [
        "percent=total_customers = len(df)\n",
        "member_count = (df[\"Is_Member\"] == 1).sum()\n",
        "\n",
        "percentage_members = (member_count / total_customers) * 100\n",
        "print(f\"Percentage of members: {percentage_members:.2f}%\")\n"
      ],
      "metadata": {
        "colab": {
          "base_uri": "https://localhost:8080/"
        },
        "id": "6E1_i4eN4K8b",
        "outputId": "02d0f2ed-29b3-49f4-b98e-08dcb3b5e941"
      },
      "execution_count": null,
      "outputs": [
        {
          "output_type": "stream",
          "name": "stdout",
          "text": [
            "Percentage of members: 63.00%\n"
          ]
        }
      ]
    },
    {
      "cell_type": "code",
      "source": [
        "\n",
        "avg_spend_members=df[df[\"Is_Member\"]==1][\"Monthly_Spend\"].mean()\n",
        "avg_spend_nonmembers=df[df[\"Is_Member\"]==0][\"Monthly_Spend\"].mean()\n",
        "\n",
        "print(f\"Average monthly spend for members: {avg_spend_members:.2f}\")\n",
        "print(f\"Average monthly spend for non-members: {avg_spend_nonmembers:.2f}\")\n",
        "\n",
        "difference= 499.0-153.5\n",
        "print(f\"Difference between Q4 and Q1: {difference:.2f}\")\n",
        "\n",
        "threshold = df[\"Monthly_Spend\"].quantile(0.75)\n",
        "high_spenders = df[df[\"Monthly_Spend\"] >= threshold]\n",
        "all_members = high_spenders[\"Is_Member\"].min() == 1\n",
        "print(\"Are all high spenders members?\", all_members)\n",
        "\n",
        "\n"
      ],
      "metadata": {
        "colab": {
          "base_uri": "https://localhost:8080/"
        },
        "id": "pLK7K5pi44jQ",
        "outputId": "f4c03765-11c2-4f0e-b8d9-2b404ccd8304"
      },
      "execution_count": null,
      "outputs": [
        {
          "output_type": "stream",
          "name": "stdout",
          "text": [
            "Average monthly spend for members: 272.21\n",
            "Average monthly spend for non-members: 266.32\n",
            "Difference between Q4 and Q1: 345.50\n",
            "Are all high spenders members? False\n"
          ]
        }
      ]
    },
    {
      "cell_type": "code",
      "source": [],
      "metadata": {
        "id": "WNYfwKSQ54Kd"
      },
      "execution_count": null,
      "outputs": []
    },
    {
      "cell_type": "code",
      "source": [],
      "metadata": {
        "id": "TvxKTup8scGW"
      },
      "execution_count": null,
      "outputs": []
    }
  ]
}